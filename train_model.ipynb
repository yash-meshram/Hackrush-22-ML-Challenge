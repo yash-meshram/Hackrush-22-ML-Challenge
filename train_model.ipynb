{
 "cells": [
  {
   "cell_type": "code",
   "execution_count": 3,
   "metadata": {
    "execution": {
     "iopub.execute_input": "2022-03-25T17:33:18.972791Z",
     "iopub.status.busy": "2022-03-25T17:33:18.972341Z",
     "iopub.status.idle": "2022-03-25T17:33:18.977222Z",
     "shell.execute_reply": "2022-03-25T17:33:18.976406Z",
     "shell.execute_reply.started": "2022-03-25T17:33:18.972747Z"
    },
    "id": "_6J1XDUvR9--"
   },
   "outputs": [],
   "source": [
    "import pandas as pd\n",
    "import numpy as np\n",
    "import matplotlib.pyplot as plt\n",
    "from datetime import datetime\n",
    "import seaborn as sns\n",
    "import math\n",
    "import joblib\n",
    "\n",
    "from catboost import CatBoostRegressor\n",
    "from sklearn.model_selection import cross_val_score, train_test_split\n",
    "from sklearn.metrics import mean_squared_error"
   ]
  },
  {
   "cell_type": "code",
   "execution_count": 4,
   "metadata": {
    "execution": {
     "iopub.execute_input": "2022-03-25T17:33:19.042176Z",
     "iopub.status.busy": "2022-03-25T17:33:19.041434Z",
     "iopub.status.idle": "2022-03-25T17:33:19.119001Z",
     "shell.execute_reply": "2022-03-25T17:33:19.118342Z",
     "shell.execute_reply.started": "2022-03-25T17:33:19.042130Z"
    },
    "id": "W__SvVCXR9--"
   },
   "outputs": [],
   "source": [
    "df = pd.read_csv('train.csv')\n",
    "df = pd.concat([df, pd.get_dummies(df['Faculty'])], axis='columns')\n",
    "\n",
    "models = {}\n",
    "\n",
    "c = 0\n",
    "for course in df[\"Course\"].unique():\n",
    "    df_i = df[df[\"Course\"] == course]\n",
    "    del df_i[\"Course\"]\n",
    "    \n",
    "    df_i['Year'] = df_i['Timestep'].apply(lambda x: int(x[2:6]))\n",
    "    \n",
    "    x_i = df_i.drop(['Id', 'Timestep', 'Faculty', 'Expected'], axis = 'columns')\n",
    "    \n",
    "    cols = x_i.columns.tolist()\n",
    "    \n",
    "    y_i = df_i['Expected']\n",
    "     \n",
    "    model = CatBoostRegressor(\n",
    "                                learning_rate=0.75,\n",
    "                                depth = 4,\n",
    "                                n_estimators = 100\n",
    "    )\n",
    "\n",
    "    model.fit(x_i, y_i,\n",
    "              verbose = False,\n",
    "              plot = False)\n",
    "    \n",
    "    models[course] = model\n",
    "    c+=1\n",
    "    print(c)"
   ]
  },
  {
   "cell_type": "code",
   "execution_count": null,
   "metadata": {},
   "outputs": [],
   "source": [
    "cols = cols[-1:] + cols[:-1]\n",
    "cols"
   ]
  },
  {
   "cell_type": "code",
   "execution_count": null,
   "metadata": {
    "id": "aQpX9Q6_R9_G"
   },
   "outputs": [],
   "source": [
    "df = pd.read_csv('test.csv')\n",
    "df = pd.concat([df, pd.get_dummies(df['Faculty'])], axis='columns')\n",
    "df['Year'] = df['Timestep'].apply(lambda x: int(x[2:6]))\n",
    "\n",
    "sol = []\n",
    "\n",
    "for i, _ in df.iterrows():\n",
    "    df_i = df[i:i+1]\n",
    "    \n",
    "    course = df_i[\"Course\"][i]\n",
    "    del df_i[\"Course\"]\n",
    "\n",
    "    x_i = df_i.drop(['Id', 'Timestep', 'Faculty'], axis = 'columns')\n",
    "    x_i = x_i[cols]\n",
    "\n",
    "    \n",
    "    y_pred = models[course].predict(x_i)\n",
    "    sol.append(y_pred[0])\n",
    "    print(i)"
   ]
  },
  {
   "cell_type": "code",
   "execution_count": null,
   "metadata": {},
   "outputs": [],
   "source": [
    "ans = pd.DataFrame({\"Id\": [i for i in range(10000)], \"Predicted\": sol})\n"
   ]
  },
  {
   "cell_type": "code",
   "execution_count": null,
   "metadata": {},
   "outputs": [],
   "source": [
    "ans.to_csv(\"sub_last_one.csv\", index=False)"
   ]
  }
 ],
 "metadata": {
  "accelerator": "GPU",
  "colab": {
   "name": "pray-hack.ipynb",
   "provenance": []
  },
  "kernelspec": {
   "display_name": "Python 3 (ipykernel)",
   "language": "python",
   "name": "python3"
  },
  "language_info": {
   "codemirror_mode": {
    "name": "ipython",
    "version": 3
   },
   "file_extension": ".py",
   "mimetype": "text/x-python",
   "name": "python",
   "nbconvert_exporter": "python",
   "pygments_lexer": "ipython3",
   "version": "3.8.5"
  }
 },
 "nbformat": 4,
 "nbformat_minor": 1
}
